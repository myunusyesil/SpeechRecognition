{
 "cells": [
  {
   "cell_type": "code",
   "execution_count": 13,
   "metadata": {},
   "outputs": [],
   "source": [
    "import torch\n",
    "from transformers import AutoModelForSpeechSeq2Seq, AutoProcessor, pipeline\n",
    "from datasets import load_dataset\n",
    "\n",
    "from pathlib import Path"
   ]
  },
  {
   "cell_type": "code",
   "execution_count": 24,
   "metadata": {},
   "outputs": [
    {
     "name": "stdout",
     "output_type": "stream",
     "text": [
      "{'path': 'audio.mp3', 'array': array([ 1.89960356e-05, -1.63675359e-05, -2.14778993e-06, ...,\n",
      "       -5.85456219e-05, -3.70250200e-06,  3.67389584e-05]), 'sampling_rate': 48000}\n"
     ]
    }
   ],
   "source": [
    "import numpy as np\n",
    "import soundfile as sf\n",
    "\n",
    "# Load audio file\n",
    "audio_path = 'audio.mp3'  # Replace 'path_to_your_audio_file.wav' with the actual path to your audio file\n",
    "audio, sampling_rate = sf.read(audio_path)\n",
    "\n",
    "# Convert audio array to a dictionary format\n",
    "audio_dict = {\n",
    "    'path': audio_path,\n",
    "    'array': audio,\n",
    "    'sampling_rate': sampling_rate\n",
    "}\n",
    "\n",
    "print(audio_dict)\n"
   ]
  },
  {
   "cell_type": "code",
   "execution_count": 25,
   "metadata": {},
   "outputs": [
    {
     "name": "stderr",
     "output_type": "stream",
     "text": [
      "Special tokens have been added in the vocabulary, make sure the associated word embeddings are fine-tuned or trained.\n"
     ]
    },
    {
     "name": "stdout",
     "output_type": "stream",
     "text": [
      " Delikanlının adı Santiago idi. Sürüsüyle birlikte eski terk edilmiş kilisenin önüne geldiğinde güneş batmak üzereydi. Kilisenin çatısı çoktandır çökmüş. Bir zamanlar ayin eşyalarının kovunulduğu yerde kocaman bir firavun inciri büyümüştü. Delikanlı geceyi burada geçirmeye karar verdi. Bütün koyunlarını yıkık kapıdan içeri soktu. K koyunlarını yıkık kapıdan içeri soktu. Koyunların geceleyin kaçmalarına engel olacak şekilde kapıya birkaç tahta koydu. Bu bölgede kurt falan yoktu. Ama bir keresinde bir kaçak koyunu bulmak için ertesi gün bütün günde dolaşmak zorunda kalmıştı.\n"
     ]
    }
   ],
   "source": [
    "device = \"cuda:0\" if torch.cuda.is_available() else \"cpu\"\n",
    "torch_dtype = torch.float16 if torch.cuda.is_available() else torch.float32\n",
    "\n",
    "model_id = \"openai/whisper-large-v3\"\n",
    "\n",
    "model = AutoModelForSpeechSeq2Seq.from_pretrained(\n",
    "    model_id, torch_dtype=torch_dtype, low_cpu_mem_usage=False, use_safetensors=True\n",
    ")\n",
    "model.to(device)\n",
    "# model = model.to_bettertransformer()\n",
    "\n",
    "processor = AutoProcessor.from_pretrained(model_id)\n",
    "\n",
    "pipe = pipeline(\n",
    "    \"automatic-speech-recognition\",\n",
    "    model=model,\n",
    "    tokenizer=processor.tokenizer,\n",
    "    feature_extractor=processor.feature_extractor,\n",
    "    max_new_tokens=128,\n",
    "    chunk_length_s=30,\n",
    "    batch_size=16,\n",
    "    return_timestamps=True,\n",
    "    torch_dtype=torch_dtype,\n",
    "    device=device,\n",
    ")\n",
    "\n",
    "# dataset = load_dataset(\"distil-whisper/librispeech_long\", \"clean\", split=\"validation\")\n",
    "# sample = dataset[0][\"audio\"]\n",
    "# dataset[0]['audio']\n",
    "\n",
    "\n",
    "# Pass audio input to the pipeline\n",
    "result = pipe(audio_dict, generate_kwargs={\"language\": \"turkish\"})\n",
    "print(result[\"text\"])"
   ]
  },
  {
   "cell_type": "code",
   "execution_count": 30,
   "metadata": {},
   "outputs": [],
   "source": [
    "with open('result.txt', 'w', encoding='utf-8') as f:\n",
    "    f.write(f'{result}')"
   ]
  },
  {
   "cell_type": "code",
   "execution_count": 22,
   "metadata": {},
   "outputs": [
    {
     "data": {
      "text/plain": [
       "{'path': '0d38672e0bbdbdc460af55b8bb84a15b2730db2819f2af64f9c777d4d586f2de',\n",
       " 'array': array([0.00238037, 0.0020752 , 0.00198364, ..., 0.00024414, 0.00048828,\n",
       "        0.0005188 ]),\n",
       " 'sampling_rate': 16000}"
      ]
     },
     "execution_count": 22,
     "metadata": {},
     "output_type": "execute_result"
    }
   ],
   "source": []
  },
  {
   "cell_type": "code",
   "execution_count": null,
   "metadata": {},
   "outputs": [],
   "source": []
  },
  {
   "cell_type": "code",
   "execution_count": null,
   "metadata": {},
   "outputs": [],
   "source": []
  }
 ],
 "metadata": {
  "kernelspec": {
   "display_name": ".venv",
   "language": "python",
   "name": "python3"
  },
  "language_info": {
   "codemirror_mode": {
    "name": "ipython",
    "version": 3
   },
   "file_extension": ".py",
   "mimetype": "text/x-python",
   "name": "python",
   "nbconvert_exporter": "python",
   "pygments_lexer": "ipython3",
   "version": "3.11.5"
  }
 },
 "nbformat": 4,
 "nbformat_minor": 2
}
